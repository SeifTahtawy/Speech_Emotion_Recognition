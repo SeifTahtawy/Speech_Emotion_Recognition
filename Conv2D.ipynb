{
  "nbformat": 4,
  "nbformat_minor": 0,
  "metadata": {
    "colab": {
      "provenance": [],
      "gpuType": "T4"
    },
    "kernelspec": {
      "name": "python3",
      "display_name": "Python 3"
    },
    "language_info": {
      "name": "python"
    },
    "gpuClass": "standard"
  },
  "cells": [
    {
      "cell_type": "markdown",
      "source": [
        "Mounting Google Drive"
      ],
      "metadata": {
        "id": "tbo9FsjCR_xT"
      }
    },
    {
      "cell_type": "code",
      "execution_count": null,
      "metadata": {
        "colab": {
          "base_uri": "https://localhost:8080/"
        },
        "id": "2aeLw0N73V8I",
        "outputId": "bc550888-8833-4866-82ba-ca9747711db0"
      },
      "outputs": [
        {
          "output_type": "stream",
          "name": "stdout",
          "text": [
            "Mounted at /content/drive\n"
          ]
        }
      ],
      "source": [
        "from google.colab import drive\n",
        "drive.mount('/content/drive')"
      ]
    },
    {
      "cell_type": "markdown",
      "source": [
        "Importing dependencies"
      ],
      "metadata": {
        "id": "acyGqC5wSGd3"
      }
    },
    {
      "cell_type": "code",
      "source": [
        "import pandas as pd\n",
        "import numpy as np\n",
        "import os\n",
        "import matplotlib.pyplot as plt\n",
        "import tensorflow \n",
        "from keras import models\n",
        "from keras.utils import np_utils\n",
        "from sklearn.model_selection import train_test_split\n",
        "from sklearn.preprocessing import LabelEncoder"
      ],
      "metadata": {
        "id": "sA0UQvRZ4mSL"
      },
      "execution_count": null,
      "outputs": []
    },
    {
      "cell_type": "markdown",
      "source": [
        "Reading the training set, validation set and test set.\n",
        "Our data here is 20 MFCCs(Mel-frequency cepstral coefficients) extracted for each data instance. So each instance in our train, validation and test sets has a shape of (20,216)."
      ],
      "metadata": {
        "id": "8y9z7GCwSh4s"
      }
    },
    {
      "cell_type": "code",
      "source": [
        "X_train = pd.read_csv('/content/drive/My Drive/Latest model/X_train.csv')\n",
        "X_train = X_train[X_train.columns[1:]]\n",
        "X_train = X_train.to_numpy()\n",
        "X_train = X_train.reshape(24744,20,216)\n",
        "\n",
        "X_val = pd.read_csv('/content/drive/My Drive/Latest model/X_val.csv')\n",
        "X_val = X_val[X_val.columns[1:]]\n",
        "X_val = X_val.to_numpy() \n",
        "X_val = X_val.reshape(X_val.shape[0],20,216)\n",
        "\n",
        "\n",
        "X_test = pd.read_csv('/content/drive/My Drive/Latest model/X_test.csv')\n",
        "X_test = X_test[X_test.columns[1:]]\n",
        "X_test = X_test.to_numpy() \n",
        "X_test = X_test.reshape(X_test.shape[0],20,216)\n",
        "\n",
        "\n",
        "y_train = pd.read_csv('/content/drive/My Drive/Latest model/y_train.csv')\n",
        "y_train = y_train[y_train.columns[1:]]\n",
        "y_train = y_train.to_numpy()\n",
        "\n",
        "\n",
        "y_val = pd.read_csv('/content/drive/My Drive/Latest model/y_val.csv')\n",
        "y_val = y_val[y_val.columns[1:]]\n",
        "y_val = y_val.to_numpy()\n",
        "\n",
        "\n",
        "y_test = pd.read_csv('/content/drive/My Drive/Latest model/y_test.csv')\n",
        "y_test = y_test[y_test.columns[1:]]\n",
        "y_test = y_test.to_numpy()"
      ],
      "metadata": {
        "id": "UOr3UiOMSRW3"
      },
      "execution_count": null,
      "outputs": []
    },
    {
      "cell_type": "markdown",
      "source": [
        "Creating the model"
      ],
      "metadata": {
        "id": "MBqwccPGTwgz"
      }
    },
    {
      "cell_type": "code",
      "source": [
        "def makeModel_2D():\n",
        "  model = models.Sequential()\n",
        "  model.add(tensorflow.keras.layers.Conv2D(128, kernel_size=11,strides=1, padding=\"same\", activation=\"relu\",\n",
        "                                         input_shape=(20, 216, 1)))\n",
        "  model.add(tensorflow.keras.layers.BatchNormalization())\n",
        "  model.add(tensorflow.keras.layers.MaxPooling2D(pool_size=(10,10), strides=(2,2), padding=\"same\"))\n",
        "  model.add(tensorflow.keras.layers.Conv2D(128, kernel_size=11,strides=1, padding=\"same\", activation=\"relu\",\n",
        "                                         input_shape=(20, 216, 1)))\n",
        "  model.add(tensorflow.keras.layers.BatchNormalization())\n",
        "  model.add(tensorflow.keras.layers.MaxPooling2D(pool_size=(10,10), strides=(2,2), padding=\"same\"))\n",
        "  model.add(tensorflow.keras.layers.Conv2D(128, kernel_size=11,strides=1, padding=\"same\", activation=\"relu\",\n",
        "                                         input_shape=(20, 216, 1)))\n",
        "  model.add(tensorflow.keras.layers.BatchNormalization())\n",
        "  model.add(tensorflow.keras.layers.MaxPooling2D(pool_size=(10,10), strides=(2,2), padding=\"same\"))\n",
        "  model.add(tensorflow.keras.layers.Conv2D(128, kernel_size=11,strides=1, padding=\"same\", activation=\"relu\",\n",
        "                                         input_shape=(20, 216, 1)))\n",
        "  model.add(tensorflow.keras.layers.BatchNormalization())\n",
        "  model.add(tensorflow.keras.layers.MaxPooling2D(pool_size=(10,10), strides=(2,2), padding=\"same\"))\n",
        "\n",
        "  model.add(tensorflow.keras.layers.Conv2D(128, kernel_size=11,strides=1, padding=\"same\", activation=\"relu\",\n",
        "                                         input_shape=(20, 216, 1)))\n",
        "  model.add(tensorflow.keras.layers.BatchNormalization())\n",
        "  model.add(tensorflow.keras.layers.MaxPooling2D(pool_size=(10,10), strides=(2,2), padding=\"same\"))\n",
        "  model.add(tensorflow.keras.layers.Conv2D(128, kernel_size=11,strides=1, padding=\"same\", activation=\"relu\",\n",
        "                                         input_shape=(20, 216, 1)))\n",
        "  model.add(tensorflow.keras.layers.BatchNormalization())\n",
        "  model.add(tensorflow.keras.layers.MaxPooling2D(pool_size=(10,10), strides=(2,2), padding=\"same\"))\n",
        "\n",
        "  model.add(tensorflow.keras.layers.Conv2D(128, kernel_size=11,strides=1, padding=\"same\", activation=\"relu\",\n",
        "                                         input_shape=(20, 216, 1)))\n",
        "  model.add(tensorflow.keras.layers.BatchNormalization())\n",
        "  model.add(tensorflow.keras.layers.MaxPooling2D(pool_size=(10,10), strides=(2,2), padding=\"same\"))\n",
        "\n",
        "\n",
        "  model.add(tensorflow.keras.layers.Flatten())\n",
        "  model.add(tensorflow.keras.layers.Dense(32, activation='relu'))\n",
        "  model.add(tensorflow.keras.layers.Dropout(rate=0.2))\n",
        "  model.add(tensorflow.keras.layers.BatchNormalization())\n",
        "  model.add(tensorflow.keras.layers.Dense(6, activation=\"softmax\"))\n",
        "\n",
        "  model.compile(optimizer=\"Adam\", loss=\"categorical_crossentropy\", metrics=[tensorflow.keras.metrics.BinaryAccuracy(name='accuracy')])\n",
        "  return model"
      ],
      "metadata": {
        "id": "Q5HzCdur_8dJ"
      },
      "execution_count": null,
      "outputs": []
    },
    {
      "cell_type": "markdown",
      "source": [
        "Determining the path to save our model weights"
      ],
      "metadata": {
        "id": "FpIzMuclT_uN"
      }
    },
    {
      "cell_type": "code",
      "source": [
        "checkpoint_path = \"/content/drive/My Drive/training1_model1_2d/cp-{epoch:04d}.ckpt\"\n",
        "checkpoint_dir = os.path.dirname(checkpoint_path)\n",
        "\n",
        "cp_callback = tensorflow.keras.callbacks.ModelCheckpoint(\n",
        "    filepath=checkpoint_path, \n",
        "    verbose=1, \n",
        "    save_weights_only=True,\n",
        "    save_best_only=True,\n",
        "    monitor='val_accuracy',\n",
        "    mode='max')\n",
        "\n"
      ],
      "metadata": {
        "id": "PeD26LbRAXBu"
      },
      "execution_count": null,
      "outputs": []
    },
    {
      "cell_type": "markdown",
      "source": [
        "Loading the weights and training the model"
      ],
      "metadata": {
        "id": "sh3zEuBtUGj0"
      }
    },
    {
      "cell_type": "code",
      "source": [
        "model_2d = makeModel_2D()\n",
        "model_2d.load_weights('/content/drive/My Drive/Latest model/cp-0048.ckpt')\n",
        "\n",
        "\n",
        "model_2d.save_weights(checkpoint_path.format(epoch=0))\n",
        "istory = model_2d.fit(X_train, y_train, validation_data=(X_val, y_val),\n",
        "                    epochs=50, batch_size=128, callbacks=[cp_callback])\n",
        "\n"
      ],
      "metadata": {
        "colab": {
          "base_uri": "https://localhost:8080/"
        },
        "id": "x67b1WvcBpTC",
        "outputId": "63be43f5-9265-4dba-d7d2-eb9795907489"
      },
      "execution_count": null,
      "outputs": [
        {
          "output_type": "stream",
          "name": "stderr",
          "text": [
            "WARNING:tensorflow:Detecting that an object or model or tf.train.Checkpoint is being deleted with unrestored values. See the following logs for the specific values in question. To silence these warnings, use `status.expect_partial()`. See https://www.tensorflow.org/api_docs/python/tf/train/Checkpoint#restorefor details about the status object returned by the restore function.\n",
            "WARNING:tensorflow:Value in checkpoint could not be found in the restored object: (root).optimizer._variables.1\n",
            "WARNING:tensorflow:Value in checkpoint could not be found in the restored object: (root).optimizer._variables.2\n",
            "WARNING:tensorflow:Value in checkpoint could not be found in the restored object: (root).optimizer._variables.3\n",
            "WARNING:tensorflow:Value in checkpoint could not be found in the restored object: (root).optimizer._variables.4\n",
            "WARNING:tensorflow:Value in checkpoint could not be found in the restored object: (root).optimizer._variables.5\n",
            "WARNING:tensorflow:Value in checkpoint could not be found in the restored object: (root).optimizer._variables.6\n",
            "WARNING:tensorflow:Value in checkpoint could not be found in the restored object: (root).optimizer._variables.7\n",
            "WARNING:tensorflow:Value in checkpoint could not be found in the restored object: (root).optimizer._variables.8\n",
            "WARNING:tensorflow:Value in checkpoint could not be found in the restored object: (root).optimizer._variables.9\n",
            "WARNING:tensorflow:Value in checkpoint could not be found in the restored object: (root).optimizer._variables.10\n",
            "WARNING:tensorflow:Value in checkpoint could not be found in the restored object: (root).optimizer._variables.11\n",
            "WARNING:tensorflow:Value in checkpoint could not be found in the restored object: (root).optimizer._variables.12\n",
            "WARNING:tensorflow:Value in checkpoint could not be found in the restored object: (root).optimizer._variables.13\n",
            "WARNING:tensorflow:Value in checkpoint could not be found in the restored object: (root).optimizer._variables.14\n",
            "WARNING:tensorflow:Value in checkpoint could not be found in the restored object: (root).optimizer._variables.15\n",
            "WARNING:tensorflow:Value in checkpoint could not be found in the restored object: (root).optimizer._variables.16\n",
            "WARNING:tensorflow:Value in checkpoint could not be found in the restored object: (root).optimizer._variables.17\n",
            "WARNING:tensorflow:Value in checkpoint could not be found in the restored object: (root).optimizer._variables.18\n",
            "WARNING:tensorflow:Value in checkpoint could not be found in the restored object: (root).optimizer._variables.19\n",
            "WARNING:tensorflow:Value in checkpoint could not be found in the restored object: (root).optimizer._variables.20\n",
            "WARNING:tensorflow:Value in checkpoint could not be found in the restored object: (root).optimizer._variables.21\n",
            "WARNING:tensorflow:Value in checkpoint could not be found in the restored object: (root).optimizer._variables.22\n",
            "WARNING:tensorflow:Value in checkpoint could not be found in the restored object: (root).optimizer._variables.23\n",
            "WARNING:tensorflow:Value in checkpoint could not be found in the restored object: (root).optimizer._variables.24\n",
            "WARNING:tensorflow:Value in checkpoint could not be found in the restored object: (root).optimizer._variables.25\n",
            "WARNING:tensorflow:Value in checkpoint could not be found in the restored object: (root).optimizer._variables.26\n",
            "WARNING:tensorflow:Value in checkpoint could not be found in the restored object: (root).optimizer._variables.27\n",
            "WARNING:tensorflow:Value in checkpoint could not be found in the restored object: (root).optimizer._variables.28\n",
            "WARNING:tensorflow:Value in checkpoint could not be found in the restored object: (root).optimizer._variables.29\n",
            "WARNING:tensorflow:Value in checkpoint could not be found in the restored object: (root).optimizer._variables.30\n",
            "WARNING:tensorflow:Value in checkpoint could not be found in the restored object: (root).optimizer._variables.31\n",
            "WARNING:tensorflow:Value in checkpoint could not be found in the restored object: (root).optimizer._variables.32\n",
            "WARNING:tensorflow:Value in checkpoint could not be found in the restored object: (root).optimizer._variables.33\n",
            "WARNING:tensorflow:Value in checkpoint could not be found in the restored object: (root).optimizer._variables.34\n",
            "WARNING:tensorflow:Value in checkpoint could not be found in the restored object: (root).optimizer._variables.35\n",
            "WARNING:tensorflow:Value in checkpoint could not be found in the restored object: (root).optimizer._variables.36\n",
            "WARNING:tensorflow:Value in checkpoint could not be found in the restored object: (root).optimizer._variables.37\n",
            "WARNING:tensorflow:Value in checkpoint could not be found in the restored object: (root).optimizer._variables.38\n",
            "WARNING:tensorflow:Value in checkpoint could not be found in the restored object: (root).optimizer._variables.39\n",
            "WARNING:tensorflow:Value in checkpoint could not be found in the restored object: (root).optimizer._variables.40\n",
            "WARNING:tensorflow:Value in checkpoint could not be found in the restored object: (root).optimizer._variables.41\n",
            "WARNING:tensorflow:Value in checkpoint could not be found in the restored object: (root).optimizer._variables.42\n",
            "WARNING:tensorflow:Value in checkpoint could not be found in the restored object: (root).optimizer._variables.43\n",
            "WARNING:tensorflow:Value in checkpoint could not be found in the restored object: (root).optimizer._variables.44\n",
            "WARNING:tensorflow:Value in checkpoint could not be found in the restored object: (root).optimizer._variables.45\n",
            "WARNING:tensorflow:Value in checkpoint could not be found in the restored object: (root).optimizer._variables.46\n",
            "WARNING:tensorflow:Value in checkpoint could not be found in the restored object: (root).optimizer._variables.47\n",
            "WARNING:tensorflow:Value in checkpoint could not be found in the restored object: (root).optimizer._variables.48\n",
            "WARNING:tensorflow:Value in checkpoint could not be found in the restored object: (root).optimizer._variables.49\n",
            "WARNING:tensorflow:Value in checkpoint could not be found in the restored object: (root).optimizer._variables.50\n",
            "WARNING:tensorflow:Value in checkpoint could not be found in the restored object: (root).optimizer._variables.51\n",
            "WARNING:tensorflow:Value in checkpoint could not be found in the restored object: (root).optimizer._variables.52\n",
            "WARNING:tensorflow:Value in checkpoint could not be found in the restored object: (root).optimizer._variables.53\n",
            "WARNING:tensorflow:Value in checkpoint could not be found in the restored object: (root).optimizer._variables.54\n",
            "WARNING:tensorflow:Value in checkpoint could not be found in the restored object: (root).optimizer._variables.55\n",
            "WARNING:tensorflow:Value in checkpoint could not be found in the restored object: (root).optimizer._variables.56\n",
            "WARNING:tensorflow:Value in checkpoint could not be found in the restored object: (root).optimizer._variables.57\n",
            "WARNING:tensorflow:Value in checkpoint could not be found in the restored object: (root).optimizer._variables.58\n",
            "WARNING:tensorflow:Value in checkpoint could not be found in the restored object: (root).optimizer._variables.59\n",
            "WARNING:tensorflow:Value in checkpoint could not be found in the restored object: (root).optimizer._variables.60\n",
            "WARNING:tensorflow:Value in checkpoint could not be found in the restored object: (root).optimizer._variables.61\n",
            "WARNING:tensorflow:Value in checkpoint could not be found in the restored object: (root).optimizer._variables.62\n",
            "WARNING:tensorflow:Value in checkpoint could not be found in the restored object: (root).optimizer._variables.63\n",
            "WARNING:tensorflow:Value in checkpoint could not be found in the restored object: (root).optimizer._variables.64\n",
            "WARNING:tensorflow:Value in checkpoint could not be found in the restored object: (root).optimizer._variables.65\n",
            "WARNING:tensorflow:Value in checkpoint could not be found in the restored object: (root).optimizer._variables.66\n",
            "WARNING:tensorflow:Value in checkpoint could not be found in the restored object: (root).optimizer._variables.67\n",
            "WARNING:tensorflow:Value in checkpoint could not be found in the restored object: (root).optimizer._variables.68\n"
          ]
        },
        {
          "output_type": "stream",
          "name": "stdout",
          "text": [
            "Epoch 1/50\n",
            "194/194 [==============================] - ETA: 0s - loss: 0.0882 - accuracy: 0.9905\n",
            "Epoch 1: val_accuracy improved from -inf to 0.85687, saving model to /content/drive/My Drive/training1_model1_2d/cp-0001.ckpt\n",
            "194/194 [==============================] - 100s 400ms/step - loss: 0.0882 - accuracy: 0.9905 - val_loss: 2.3875 - val_accuracy: 0.8569\n",
            "Epoch 2/50\n",
            "194/194 [==============================] - ETA: 0s - loss: 0.0968 - accuracy: 0.9896\n",
            "Epoch 2: val_accuracy did not improve from 0.85687\n",
            "194/194 [==============================] - 75s 386ms/step - loss: 0.0968 - accuracy: 0.9896 - val_loss: 3.2707 - val_accuracy: 0.8268\n",
            "Epoch 3/50\n",
            "194/194 [==============================] - ETA: 0s - loss: 0.1127 - accuracy: 0.9874\n",
            "Epoch 3: val_accuracy did not improve from 0.85687\n",
            "194/194 [==============================] - 75s 389ms/step - loss: 0.1127 - accuracy: 0.9874 - val_loss: 2.9177 - val_accuracy: 0.8314\n",
            "Epoch 4/50\n",
            "194/194 [==============================] - ETA: 0s - loss: 0.0853 - accuracy: 0.9910\n",
            "Epoch 4: val_accuracy improved from 0.85687 to 0.91584, saving model to /content/drive/My Drive/training1_model1_2d/cp-0004.ckpt\n",
            "194/194 [==============================] - 76s 391ms/step - loss: 0.0853 - accuracy: 0.9910 - val_loss: 1.0834 - val_accuracy: 0.9158\n",
            "Epoch 5/50\n",
            "194/194 [==============================] - ETA: 0s - loss: 0.0992 - accuracy: 0.9889\n",
            "Epoch 5: val_accuracy did not improve from 0.91584\n",
            "194/194 [==============================] - 75s 387ms/step - loss: 0.0992 - accuracy: 0.9889 - val_loss: 3.0976 - val_accuracy: 0.8455\n",
            "Epoch 6/50\n",
            "194/194 [==============================] - ETA: 0s - loss: 0.0850 - accuracy: 0.9909\n",
            "Epoch 6: val_accuracy did not improve from 0.91584\n",
            "194/194 [==============================] - 75s 387ms/step - loss: 0.0850 - accuracy: 0.9909 - val_loss: 1.6149 - val_accuracy: 0.8979\n",
            "Epoch 7/50\n",
            "194/194 [==============================] - ETA: 0s - loss: 0.0955 - accuracy: 0.9892\n",
            "Epoch 7: val_accuracy did not improve from 0.91584\n",
            "194/194 [==============================] - 76s 390ms/step - loss: 0.0955 - accuracy: 0.9892 - val_loss: 1.9666 - val_accuracy: 0.8771\n",
            "Epoch 8/50\n",
            "194/194 [==============================] - ETA: 0s - loss: 0.0897 - accuracy: 0.9903\n",
            "Epoch 8: val_accuracy did not improve from 0.91584\n",
            "194/194 [==============================] - 76s 390ms/step - loss: 0.0897 - accuracy: 0.9903 - val_loss: 2.2867 - val_accuracy: 0.8679\n",
            "Epoch 9/50\n",
            "194/194 [==============================] - ETA: 0s - loss: 0.0844 - accuracy: 0.9905\n",
            "Epoch 9: val_accuracy did not improve from 0.91584\n",
            "194/194 [==============================] - 75s 387ms/step - loss: 0.0844 - accuracy: 0.9905 - val_loss: 1.2537 - val_accuracy: 0.9133\n",
            "Epoch 10/50\n",
            "194/194 [==============================] - ETA: 0s - loss: 0.0845 - accuracy: 0.9910\n",
            "Epoch 10: val_accuracy did not improve from 0.91584\n",
            "194/194 [==============================] - 76s 390ms/step - loss: 0.0845 - accuracy: 0.9910 - val_loss: 2.2484 - val_accuracy: 0.8729\n",
            "Epoch 11/50\n",
            "194/194 [==============================] - ETA: 0s - loss: 0.0674 - accuracy: 0.9928\n",
            "Epoch 11: val_accuracy did not improve from 0.91584\n",
            "194/194 [==============================] - 76s 389ms/step - loss: 0.0674 - accuracy: 0.9928 - val_loss: 1.1521 - val_accuracy: 0.9119\n",
            "Epoch 12/50\n",
            "194/194 [==============================] - ETA: 0s - loss: 0.0682 - accuracy: 0.9927\n",
            "Epoch 12: val_accuracy did not improve from 0.91584\n",
            "194/194 [==============================] - 76s 390ms/step - loss: 0.0682 - accuracy: 0.9927 - val_loss: 1.6784 - val_accuracy: 0.8891\n",
            "Epoch 13/50\n",
            "194/194 [==============================] - ETA: 0s - loss: 0.0843 - accuracy: 0.9909\n",
            "Epoch 13: val_accuracy did not improve from 0.91584\n",
            "194/194 [==============================] - 76s 390ms/step - loss: 0.0843 - accuracy: 0.9909 - val_loss: 1.2610 - val_accuracy: 0.9098\n",
            "Epoch 14/50\n",
            "194/194 [==============================] - ETA: 0s - loss: 0.0722 - accuracy: 0.9921\n",
            "Epoch 14: val_accuracy did not improve from 0.91584\n",
            "194/194 [==============================] - 76s 390ms/step - loss: 0.0722 - accuracy: 0.9921 - val_loss: 5.3831 - val_accuracy: 0.7882\n",
            "Epoch 15/50\n",
            "194/194 [==============================] - ETA: 0s - loss: 0.0792 - accuracy: 0.9913\n",
            "Epoch 15: val_accuracy improved from 0.91584 to 0.91954, saving model to /content/drive/My Drive/training1_model1_2d/cp-0015.ckpt\n",
            "194/194 [==============================] - 76s 390ms/step - loss: 0.0792 - accuracy: 0.9913 - val_loss: 0.9638 - val_accuracy: 0.9195\n",
            "Epoch 16/50\n",
            "194/194 [==============================] - ETA: 0s - loss: 0.0655 - accuracy: 0.9929\n",
            "Epoch 16: val_accuracy did not improve from 0.91954\n",
            "194/194 [==============================] - 75s 387ms/step - loss: 0.0655 - accuracy: 0.9929 - val_loss: 3.7566 - val_accuracy: 0.8482\n",
            "Epoch 17/50\n",
            "194/194 [==============================] - ETA: 0s - loss: 0.0826 - accuracy: 0.9914\n",
            "Epoch 17: val_accuracy did not improve from 0.91954\n",
            "194/194 [==============================] - 76s 390ms/step - loss: 0.0826 - accuracy: 0.9914 - val_loss: 3.4216 - val_accuracy: 0.8516\n",
            "Epoch 18/50\n",
            "194/194 [==============================] - ETA: 0s - loss: 0.0569 - accuracy: 0.9939\n",
            "Epoch 18: val_accuracy did not improve from 0.91954\n",
            "194/194 [==============================] - 76s 390ms/step - loss: 0.0569 - accuracy: 0.9939 - val_loss: 1.9024 - val_accuracy: 0.8781\n",
            "Epoch 19/50\n",
            "194/194 [==============================] - ETA: 0s - loss: 0.0656 - accuracy: 0.9930\n",
            "Epoch 19: val_accuracy improved from 0.91954 to 0.92811, saving model to /content/drive/My Drive/training1_model1_2d/cp-0019.ckpt\n",
            "194/194 [==============================] - 76s 394ms/step - loss: 0.0656 - accuracy: 0.9930 - val_loss: 1.1372 - val_accuracy: 0.9281\n",
            "Epoch 20/50\n",
            "194/194 [==============================] - ETA: 0s - loss: 0.0697 - accuracy: 0.9924\n",
            "Epoch 20: val_accuracy did not improve from 0.92811\n",
            "194/194 [==============================] - 76s 390ms/step - loss: 0.0697 - accuracy: 0.9924 - val_loss: 1.9559 - val_accuracy: 0.8855\n",
            "Epoch 21/50\n",
            "194/194 [==============================] - ETA: 0s - loss: 0.0704 - accuracy: 0.9926\n",
            "Epoch 21: val_accuracy did not improve from 0.92811\n",
            "194/194 [==============================] - 76s 390ms/step - loss: 0.0704 - accuracy: 0.9926 - val_loss: 1.8936 - val_accuracy: 0.8840\n",
            "Epoch 22/50\n",
            "194/194 [==============================] - ETA: 0s - loss: 0.0694 - accuracy: 0.9927\n",
            "Epoch 22: val_accuracy did not improve from 0.92811\n",
            "194/194 [==============================] - 76s 390ms/step - loss: 0.0694 - accuracy: 0.9927 - val_loss: 2.7261 - val_accuracy: 0.8365\n",
            "Epoch 23/50\n",
            "194/194 [==============================] - ETA: 0s - loss: 0.0539 - accuracy: 0.9942\n",
            "Epoch 23: val_accuracy did not improve from 0.92811\n",
            "194/194 [==============================] - 75s 387ms/step - loss: 0.0539 - accuracy: 0.9942 - val_loss: 1.1113 - val_accuracy: 0.9229\n",
            "Epoch 24/50\n",
            "194/194 [==============================] - ETA: 0s - loss: 0.0637 - accuracy: 0.9931\n",
            "Epoch 24: val_accuracy did not improve from 0.92811\n",
            "194/194 [==============================] - 76s 390ms/step - loss: 0.0637 - accuracy: 0.9931 - val_loss: 1.2399 - val_accuracy: 0.9172\n",
            "Epoch 25/50\n",
            "194/194 [==============================] - ETA: 0s - loss: 0.0725 - accuracy: 0.9923\n",
            "Epoch 25: val_accuracy did not improve from 0.92811\n",
            "194/194 [==============================] - 76s 390ms/step - loss: 0.0725 - accuracy: 0.9923 - val_loss: 2.0504 - val_accuracy: 0.8695\n",
            "Epoch 26/50\n",
            "194/194 [==============================] - ETA: 0s - loss: 0.0646 - accuracy: 0.9929\n",
            "Epoch 26: val_accuracy did not improve from 0.92811\n",
            "194/194 [==============================] - 76s 390ms/step - loss: 0.0646 - accuracy: 0.9929 - val_loss: 1.0001 - val_accuracy: 0.9253\n",
            "Epoch 27/50\n",
            "194/194 [==============================] - ETA: 0s - loss: 0.0560 - accuracy: 0.9942\n",
            "Epoch 27: val_accuracy did not improve from 0.92811\n",
            "194/194 [==============================] - 76s 390ms/step - loss: 0.0560 - accuracy: 0.9942 - val_loss: 1.4409 - val_accuracy: 0.8982\n",
            "Epoch 28/50\n",
            "194/194 [==============================] - ETA: 0s - loss: 0.0571 - accuracy: 0.9937\n",
            "Epoch 28: val_accuracy improved from 0.92811 to 0.93054, saving model to /content/drive/My Drive/training1_model1_2d/cp-0028.ckpt\n",
            "194/194 [==============================] - 76s 393ms/step - loss: 0.0571 - accuracy: 0.9937 - val_loss: 1.0698 - val_accuracy: 0.9305\n",
            "Epoch 29/50\n",
            "194/194 [==============================] - ETA: 0s - loss: 0.0609 - accuracy: 0.9936\n",
            "Epoch 29: val_accuracy did not improve from 0.93054\n",
            "194/194 [==============================] - 75s 387ms/step - loss: 0.0609 - accuracy: 0.9936 - val_loss: 1.1297 - val_accuracy: 0.9059\n",
            "Epoch 30/50\n",
            "194/194 [==============================] - ETA: 0s - loss: 0.0604 - accuracy: 0.9936\n",
            "Epoch 30: val_accuracy did not improve from 0.93054\n",
            "194/194 [==============================] - 76s 390ms/step - loss: 0.0604 - accuracy: 0.9936 - val_loss: 2.1710 - val_accuracy: 0.8723\n",
            "Epoch 31/50\n",
            "194/194 [==============================] - ETA: 0s - loss: 0.0603 - accuracy: 0.9935\n",
            "Epoch 31: val_accuracy did not improve from 0.93054\n",
            "194/194 [==============================] - 76s 390ms/step - loss: 0.0603 - accuracy: 0.9935 - val_loss: 1.1985 - val_accuracy: 0.9135\n",
            "Epoch 32/50\n",
            "194/194 [==============================] - ETA: 0s - loss: 0.0433 - accuracy: 0.9956\n",
            "Epoch 32: val_accuracy did not improve from 0.93054\n",
            "194/194 [==============================] - 75s 387ms/step - loss: 0.0433 - accuracy: 0.9956 - val_loss: 1.9680 - val_accuracy: 0.8886\n",
            "Epoch 33/50\n",
            "194/194 [==============================] - ETA: 0s - loss: 0.0682 - accuracy: 0.9923\n",
            "Epoch 33: val_accuracy did not improve from 0.93054\n",
            "194/194 [==============================] - 75s 387ms/step - loss: 0.0682 - accuracy: 0.9923 - val_loss: 1.7107 - val_accuracy: 0.8949\n",
            "Epoch 34/50\n",
            "194/194 [==============================] - ETA: 0s - loss: 0.0476 - accuracy: 0.9949\n",
            "Epoch 34: val_accuracy did not improve from 0.93054\n",
            "194/194 [==============================] - 75s 387ms/step - loss: 0.0476 - accuracy: 0.9949 - val_loss: 1.9098 - val_accuracy: 0.8896\n",
            "Epoch 35/50\n",
            "194/194 [==============================] - ETA: 0s - loss: 0.0518 - accuracy: 0.9946\n",
            "Epoch 35: val_accuracy did not improve from 0.93054\n",
            "194/194 [==============================] - 76s 390ms/step - loss: 0.0518 - accuracy: 0.9946 - val_loss: 4.0537 - val_accuracy: 0.8007\n",
            "Epoch 36/50\n",
            "194/194 [==============================] - ETA: 0s - loss: 0.0562 - accuracy: 0.9938\n",
            "Epoch 36: val_accuracy did not improve from 0.93054\n",
            "194/194 [==============================] - 76s 390ms/step - loss: 0.0562 - accuracy: 0.9938 - val_loss: 1.6902 - val_accuracy: 0.8987\n",
            "Epoch 37/50\n",
            "194/194 [==============================] - ETA: 0s - loss: 0.0545 - accuracy: 0.9939\n",
            "Epoch 37: val_accuracy did not improve from 0.93054\n",
            "194/194 [==============================] - 76s 390ms/step - loss: 0.0545 - accuracy: 0.9939 - val_loss: 1.4456 - val_accuracy: 0.9034\n",
            "Epoch 38/50\n",
            "194/194 [==============================] - ETA: 0s - loss: 0.0468 - accuracy: 0.9950\n",
            "Epoch 38: val_accuracy did not improve from 0.93054\n",
            "194/194 [==============================] - 75s 387ms/step - loss: 0.0468 - accuracy: 0.9950 - val_loss: 2.8757 - val_accuracy: 0.8588\n",
            "Epoch 39/50\n",
            "194/194 [==============================] - ETA: 0s - loss: 0.0501 - accuracy: 0.9944\n",
            "Epoch 39: val_accuracy did not improve from 0.93054\n",
            "194/194 [==============================] - 76s 390ms/step - loss: 0.0501 - accuracy: 0.9944 - val_loss: 1.6364 - val_accuracy: 0.9004\n",
            "Epoch 40/50\n",
            "194/194 [==============================] - ETA: 0s - loss: 0.0453 - accuracy: 0.9949\n",
            "Epoch 40: val_accuracy did not improve from 0.93054\n",
            "194/194 [==============================] - 76s 390ms/step - loss: 0.0453 - accuracy: 0.9949 - val_loss: 2.5196 - val_accuracy: 0.8767\n",
            "Epoch 41/50\n",
            "194/194 [==============================] - ETA: 0s - loss: 0.0551 - accuracy: 0.9937\n",
            "Epoch 41: val_accuracy did not improve from 0.93054\n",
            "194/194 [==============================] - 75s 387ms/step - loss: 0.0551 - accuracy: 0.9937 - val_loss: 0.9607 - val_accuracy: 0.9270\n",
            "Epoch 42/50\n",
            "194/194 [==============================] - ETA: 0s - loss: 0.0524 - accuracy: 0.9945\n",
            "Epoch 42: val_accuracy did not improve from 0.93054\n",
            "194/194 [==============================] - 76s 390ms/step - loss: 0.0524 - accuracy: 0.9945 - val_loss: 1.5193 - val_accuracy: 0.9069\n",
            "Epoch 43/50\n",
            "194/194 [==============================] - ETA: 0s - loss: 0.0398 - accuracy: 0.9957\n",
            "Epoch 43: val_accuracy did not improve from 0.93054\n",
            "194/194 [==============================] - 75s 387ms/step - loss: 0.0398 - accuracy: 0.9957 - val_loss: 3.1000 - val_accuracy: 0.8560\n",
            "Epoch 44/50\n",
            "194/194 [==============================] - ETA: 0s - loss: 0.0531 - accuracy: 0.9943\n",
            "Epoch 44: val_accuracy did not improve from 0.93054\n",
            "194/194 [==============================] - 75s 387ms/step - loss: 0.0531 - accuracy: 0.9943 - val_loss: 1.3959 - val_accuracy: 0.9079\n",
            "Epoch 45/50\n",
            "194/194 [==============================] - ETA: 0s - loss: 0.0355 - accuracy: 0.9964\n",
            "Epoch 45: val_accuracy did not improve from 0.93054\n",
            "194/194 [==============================] - 76s 390ms/step - loss: 0.0355 - accuracy: 0.9964 - val_loss: 2.0559 - val_accuracy: 0.8801\n",
            "Epoch 46/50\n",
            "194/194 [==============================] - ETA: 0s - loss: 0.0621 - accuracy: 0.9932\n",
            "Epoch 46: val_accuracy did not improve from 0.93054\n",
            "194/194 [==============================] - 75s 387ms/step - loss: 0.0621 - accuracy: 0.9932 - val_loss: 2.5088 - val_accuracy: 0.8607\n",
            "Epoch 47/50\n",
            "194/194 [==============================] - ETA: 0s - loss: 0.0306 - accuracy: 0.9967\n",
            "Epoch 47: val_accuracy improved from 0.93054 to 0.93835, saving model to /content/drive/My Drive/training1_model1_2d/cp-0047.ckpt\n",
            "194/194 [==============================] - 76s 393ms/step - loss: 0.0306 - accuracy: 0.9967 - val_loss: 0.8900 - val_accuracy: 0.9383\n",
            "Epoch 48/50\n",
            "194/194 [==============================] - ETA: 0s - loss: 0.0386 - accuracy: 0.9956\n",
            "Epoch 48: val_accuracy improved from 0.93835 to 0.94462, saving model to /content/drive/My Drive/training1_model1_2d/cp-0048.ckpt\n",
            "194/194 [==============================] - 76s 394ms/step - loss: 0.0386 - accuracy: 0.9956 - val_loss: 0.7769 - val_accuracy: 0.9446\n",
            "Epoch 49/50\n",
            "194/194 [==============================] - ETA: 0s - loss: 0.0404 - accuracy: 0.9957\n",
            "Epoch 49: val_accuracy did not improve from 0.94462\n",
            "194/194 [==============================] - 75s 387ms/step - loss: 0.0404 - accuracy: 0.9957 - val_loss: 1.4102 - val_accuracy: 0.9198\n",
            "Epoch 50/50\n",
            "194/194 [==============================] - ETA: 0s - loss: 0.0637 - accuracy: 0.9931\n",
            "Epoch 50: val_accuracy did not improve from 0.94462\n",
            "194/194 [==============================] - 76s 390ms/step - loss: 0.0637 - accuracy: 0.9931 - val_loss: 0.9569 - val_accuracy: 0.9325\n"
          ]
        }
      ]
    },
    {
      "cell_type": "markdown",
      "source": [
        "Testing our model, it got an accuracy of 93.22%"
      ],
      "metadata": {
        "id": "KAUqfy5-UVl0"
      }
    },
    {
      "cell_type": "code",
      "source": [
        "print(\"Accuracy of our 2D model on test data : \" , model_2d.evaluate(X_test,y_test)[1]*100 , \"%\")\n",
        "\n",
        "#print(\"Accuracy of our  1D model on test data : \" , model_1d.evaluate(X_test_1d,y_test)[1]*100 , \"%\")\n"
      ],
      "metadata": {
        "id": "R6udhNkbaV0O",
        "colab": {
          "base_uri": "https://localhost:8080/"
        },
        "outputId": "6b81aa25-ee82-408f-b94f-18bf8520be5b"
      },
      "execution_count": null,
      "outputs": [
        {
          "output_type": "stream",
          "name": "stdout",
          "text": [
            "349/349 [==============================] - 8s 22ms/step - loss: 0.9597 - accuracy: 0.9322\n",
            "Accuracy of our 2D model on test data :  93.22463870048523 %\n"
          ]
        }
      ]
    }
  ]
}